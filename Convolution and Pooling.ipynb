{
 "cells": [
  {
   "cell_type": "code",
   "execution_count": null,
   "metadata": {
    "executionInfo": {
     "elapsed": 261,
     "status": "ok",
     "timestamp": 1632810768276,
     "user": {
      "displayName": "Yi-Lin Tung",
      "photoUrl": "https://lh3.googleusercontent.com/a-/AOh14GjrY_bv_Qi7w8ajhf7HFIunO9TlRElnbynq7mmygg=s64",
      "userId": "05345175791123493251"
     },
     "user_tz": -480
    },
    "id": "vHSt_qmYVILc"
   },
   "outputs": [],
   "source": [
    "import numpy as np\n",
    "import math"
   ]
  },
  {
   "cell_type": "code",
   "execution_count": null,
   "metadata": {
    "colab": {
     "base_uri": "https://localhost:8080/"
    },
    "executionInfo": {
     "elapsed": 269,
     "status": "ok",
     "timestamp": 1632810780165,
     "user": {
      "displayName": "Yi-Lin Tung",
      "photoUrl": "https://lh3.googleusercontent.com/a-/AOh14GjrY_bv_Qi7w8ajhf7HFIunO9TlRElnbynq7mmygg=s64",
      "userId": "05345175791123493251"
     },
     "user_tz": -480
    },
    "id": "ZUVm_imVXp93",
    "outputId": "dd6312bd-47f3-417c-8edb-a161a2422509"
   },
   "outputs": [],
   "source": [
    "print(math.floor((6 - 2) / 2) + 1)\n",
    "print(math.floor((4 - 2) / 2) + 1)"
   ]
  },
  {
   "cell_type": "code",
   "execution_count": null,
   "metadata": {
    "id": "75LixpcoUieF"
   },
   "outputs": [],
   "source": [
    "image = np.array([[59,58,67,82],[66,75,100,124],[69,89,121,150]])\n",
    "kernel = np.array([[-1,-1],[-1,3]])"
   ]
  },
  {
   "cell_type": "code",
   "execution_count": null,
   "metadata": {
    "id": "7GSuvcEcWxAM"
   },
   "outputs": [],
   "source": [
    "def convolve(img, kernel, stride):\n",
    "\n",
    "  # Compute dimensions of output image\n",
    "  out_height = math.floor((img.shape[0] - kernel.shape[0]) / stride) + 1\n",
    "  out_width = math.floor((img.shape[1] - kernel.shape[1]) / stride) + 1\n",
    "  \n",
    "  # Create blank output image\n",
    "  convolved_img = np.zeros((out_height, out_width))\n",
    "  \n",
    "  # Loop through each pixel in the output array. Note that this is not the most efficient way of\n",
    "  # doing convolution, but it provides some insights into what's going on.\n",
    "  for i in np.arange(0, out_height):\n",
    "    for j in np.arange(0, out_width):\n",
    "\n",
    "      # Set a temporary variable to 0\n",
    "      accumulator = 0\n",
    "\n",
    "      # Do element-wise multiplication and sum the result over the window/kernel\n",
    "      for m in np.arange(0, kernel.shape[0]):\n",
    "        for n in np.arange(0, kernel.shape[1]):\n",
    "          accumulator += img[(stride * i) + m, (stride * j) + n] * kernel[m, n]\n",
    "\n",
    "      # Set output image pixel to accumulator value\n",
    "      convolved_img[i, j] = accumulator\n",
    "\n",
    "  return convolved_img"
   ]
  },
  {
   "cell_type": "code",
   "execution_count": null,
   "metadata": {
    "id": "BBDNzr8SYPac"
   },
   "outputs": [],
   "source": [
    "def maxpooling(img, pool_height, pool_width):\n",
    "\n",
    "  # Set stride amounts\n",
    "  stride_y = pool_height\n",
    "  stride_x = pool_width\n",
    "\n",
    "  # Compute dimensions of output image\n",
    "  out_height = math.floor((img.shape[0] - kernel.shape[0]) / stride_y) + 1\n",
    "  out_width = math.floor((img.shape[1] - kernel.shape[1]) / stride_x) + 1\n",
    "  \n",
    "  # Create blank output image\n",
    "  pooled_img = np.zeros((out_height, out_width))\n",
    "\n",
    "  # >>> ENTER YOUR CODE HERE <<<\n",
    "\n",
    "  # Loop through each pixel in the output array. Note that this is not the most efficient way of\n",
    "  # doing convolution, but it provides some insights into what's going on.\n",
    "  for i in np.arange(0, out_height):\n",
    "    for j in np.arange(0, out_width):\n",
    "\n",
    "      # Set output to the value of the first element in the window\n",
    "      out_val = img[(stride_y * i), (stride_x * j)]\n",
    "\n",
    "      # Look through each element in the window to find the max value\n",
    "      for m in np.arange(0, pool_height):\n",
    "        for n in np.arange(0, pool_width):\n",
    "          out_val = max(out_val, img[(stride_y * i) + m, (stride_x * j) + n])\n",
    "\n",
    "      # Set element in output array to max value\n",
    "      pooled_img[i, j] = out_val\n",
    "\n",
    "  # Round all elements, convert to integers, and clamp to values between 0 and 255\n",
    "  pooled_img = np.rint(pooled_img).astype(int)\n",
    "  pooled_img = np.clip(pooled_img, 0, 255)\n",
    "\n",
    "  return pooled_img"
   ]
  },
  {
   "cell_type": "code",
   "execution_count": null,
   "metadata": {
    "colab": {
     "base_uri": "https://localhost:8080/"
    },
    "executionInfo": {
     "elapsed": 274,
     "status": "ok",
     "timestamp": 1632798393734,
     "user": {
      "displayName": "Yi-Lin Tung",
      "photoUrl": "https://lh3.googleusercontent.com/a-/AOh14GjrY_bv_Qi7w8ajhf7HFIunO9TlRElnbynq7mmygg=s64",
      "userId": "05345175791123493251"
     },
     "user_tz": -480
    },
    "id": "QrMprfucW-td",
    "outputId": "947b1f8e-d37f-43b9-bc5a-c5e7fd9e1990"
   },
   "outputs": [],
   "source": [
    "print(convolve(image,kernel,1))"
   ]
  },
  {
   "cell_type": "code",
   "execution_count": null,
   "metadata": {
    "colab": {
     "base_uri": "https://localhost:8080/"
    },
    "executionInfo": {
     "elapsed": 294,
     "status": "ok",
     "timestamp": 1632798768878,
     "user": {
      "displayName": "Yi-Lin Tung",
      "photoUrl": "https://lh3.googleusercontent.com/a-/AOh14GjrY_bv_Qi7w8ajhf7HFIunO9TlRElnbynq7mmygg=s64",
      "userId": "05345175791123493251"
     },
     "user_tz": -480
    },
    "id": "2xIHl94LYXDA",
    "outputId": "2ecd81cc-b0d5-4c8e-d232-66aae6aae3fe"
   },
   "outputs": [],
   "source": [
    "print(maxpooling(image,2,2))"
   ]
  }
 ],
 "metadata": {
  "colab": {
   "authorship_tag": "ABX9TyOixkIgckl20XXYufX1E+MW",
   "collapsed_sections": [],
   "name": "「MyTest.ipynb」的副本",
   "provenance": [
    {
     "file_id": "1cuyQKtdEAy4c126Sm1tbiIZdZJZviWS2",
     "timestamp": 1632810736016
    }
   ]
  },
  "kernelspec": {
   "display_name": "Python 3",
   "language": "python",
   "name": "python3"
  },
  "language_info": {
   "codemirror_mode": {
    "name": "ipython",
    "version": 3
   },
   "file_extension": ".py",
   "mimetype": "text/x-python",
   "name": "python",
   "nbconvert_exporter": "python",
   "pygments_lexer": "ipython3",
   "version": "3.8.8"
  }
 },
 "nbformat": 4,
 "nbformat_minor": 1
}
