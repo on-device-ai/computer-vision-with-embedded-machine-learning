{
 "cells": [
  {
   "cell_type": "markdown",
   "metadata": {},
   "source": [
    "# Confusion Matrix"
   ]
  },
  {
   "cell_type": "code",
   "execution_count": null,
   "metadata": {
    "executionInfo": {
     "elapsed": 435,
     "status": "ok",
     "timestamp": 1632948706347,
     "user": {
      "displayName": "Yi-Lin Tung",
      "photoUrl": "https://lh3.googleusercontent.com/a-/AOh14GjrY_bv_Qi7w8ajhf7HFIunO9TlRElnbynq7mmygg=s64",
      "userId": "05345175791123493251"
     },
     "user_tz": -480
    },
    "id": "Q1tfA5bFo-v5"
   },
   "outputs": [],
   "source": [
    "import numpy as np\n",
    "import pandas as pd"
   ]
  },
  {
   "cell_type": "code",
   "execution_count": null,
   "metadata": {
    "executionInfo": {
     "elapsed": 14,
     "status": "ok",
     "timestamp": 1632948706349,
     "user": {
      "displayName": "Yi-Lin Tung",
      "photoUrl": "https://lh3.googleusercontent.com/a-/AOh14GjrY_bv_Qi7w8ajhf7HFIunO9TlRElnbynq7mmygg=s64",
      "userId": "05345175791123493251"
     },
     "user_tz": -480
    },
    "id": "XmItGR9cqDTo"
   },
   "outputs": [],
   "source": [
    "def show_confusion_matrix(confusion_matrix):\n",
    "    print('\\n' + str(confusion_matrix))\n",
    "    FP = confusion_matrix.sum(axis=0) - np.diag(confusion_matrix)  \n",
    "    FN = confusion_matrix.sum(axis=1) - np.diag(confusion_matrix)\n",
    "    TP = np.diag(confusion_matrix)\n",
    "    TN = confusion_matrix.values.sum() - (FP + FN + TP)\n",
    "\n",
    "    # Sensitivity, hit rate, recall, or true positive rate\n",
    "    TPR = TP/(TP+FN)\n",
    "    # Specificity or true negative rate\n",
    "    TNR = TN/(TN+FP) \n",
    "    # Precision or positive predictive value\n",
    "    PPV = TP/(TP+FP)\n",
    "    # Overall accuracy\n",
    "    ACC = (TP+TN)/(TP+FP+FN+TN)\n",
    "\n",
    "    print('acc  = ' + str(round(ACC[0],3)) + ' , ' + \\\n",
    "          str(round(ACC[1],3)) + ' , ' + \\\n",
    "          str(round(ACC[2],3)) + '  ' )\n",
    "    print('ppv  = ' + str(round(PPV[0],3)) + ' , ' + \\\n",
    "          str(round(PPV[1],3)) + ' , ' + \\\n",
    "          str(round(PPV[2],3)) + '  ' )\n",
    "    print('sen  = ' + str(round(TPR[0],3)) + ' , ' + \\\n",
    "          str(round(TPR[1],3)) + ' , ' + \\\n",
    "          str(round(TPR[2],3)) + '  ' )\n",
    "    print('spec = ' + str(round(TNR[0],3)) + ' , ' + \\\n",
    "          str(round(TNR[1],3)) + ' , ' + \\\n",
    "          str(round(TNR[2],3)) + '  ' )"
   ]
  },
  {
   "cell_type": "code",
   "execution_count": null,
   "metadata": {
    "executionInfo": {
     "elapsed": 12,
     "status": "ok",
     "timestamp": 1632948706349,
     "user": {
      "displayName": "Yi-Lin Tung",
      "photoUrl": "https://lh3.googleusercontent.com/a-/AOh14GjrY_bv_Qi7w8ajhf7HFIunO9TlRElnbynq7mmygg=s64",
      "userId": "05345175791123493251"
     },
     "user_tz": -480
    },
    "id": "eWYvK4oAq_si"
   },
   "outputs": [],
   "source": [
    "label = []\n",
    "pred = []\n",
    "\n",
    "# L = a , P = a\n",
    "for i in range(247):    \n",
    "    label.append(0)\n",
    "    pred.append(0)\n",
    "\n",
    "# L = a , P = b\n",
    "for i in range(23):    \n",
    "    label.append(0)\n",
    "    pred.append(1)\n",
    "\n",
    "# L = a , P = c\n",
    "for i in range(31):    \n",
    "    label.append(0)\n",
    "    pred.append(2)\n",
    "\n",
    "# L = b , P = b\n",
    "for i in range(352):    \n",
    "    label.append(1)\n",
    "    pred.append(1)\n",
    "\n",
    "# L = b , P = c\n",
    "for i in range(14):    \n",
    "    label.append(1)\n",
    "    pred.append(2)\n",
    "\n",
    "# L = c , P = a\n",
    "for i in range(36):    \n",
    "    label.append(2)\n",
    "    pred.append(0)\n",
    "\n",
    "# L = c , P = b\n",
    "for i in range(8):    \n",
    "    label.append(2)\n",
    "    pred.append(1)\n",
    "\n",
    "# L = c , P = c\n",
    "for i in range(289):    \n",
    "    label.append(2)\n",
    "    pred.append(2)\n",
    "\n",
    "Label = np.array(label)\n",
    "Pred = np.array(pred)"
   ]
  },
  {
   "cell_type": "code",
   "execution_count": null,
   "metadata": {
    "colab": {
     "base_uri": "https://localhost:8080/"
    },
    "executionInfo": {
     "elapsed": 566,
     "status": "ok",
     "timestamp": 1632948706905,
     "user": {
      "displayName": "Yi-Lin Tung",
      "photoUrl": "https://lh3.googleusercontent.com/a-/AOh14GjrY_bv_Qi7w8ajhf7HFIunO9TlRElnbynq7mmygg=s64",
      "userId": "05345175791123493251"
     },
     "user_tz": -480
    },
    "id": "k6elFRY6uWrM",
    "outputId": "1bf4c1e6-42ea-4327-e80f-1cb3b9200bda"
   },
   "outputs": [],
   "source": [
    "confusion_matrix = pd.crosstab(Label, Pred, rownames=['label'], colnames=['predict'])\n",
    "show_confusion_matrix(confusion_matrix)"
   ]
  },
  {
   "cell_type": "markdown",
   "metadata": {},
   "source": [
    "# Intersection over Union (IoU)"
   ]
  },
  {
   "cell_type": "code",
   "execution_count": null,
   "metadata": {
    "executionInfo": {
     "elapsed": 13,
     "status": "ok",
     "timestamp": 1632948706906,
     "user": {
      "displayName": "Yi-Lin Tung",
      "photoUrl": "https://lh3.googleusercontent.com/a-/AOh14GjrY_bv_Qi7w8ajhf7HFIunO9TlRElnbynq7mmygg=s64",
      "userId": "05345175791123493251"
     },
     "user_tz": -480
    },
    "id": "Ts3GxZnExk-q"
   },
   "outputs": [],
   "source": [
    "def IOU(box1, box2):\n",
    "    \"\"\" We assume that the box follows the format:\n",
    "        box1 = [x1,y1,x2,y2], and box2 = [x3,y3,x4,y4],\n",
    "        where (x1,y1) and (x3,y3) represent the top left coordinate,\n",
    "        and (x2,y2) and (x4,y4) represent the bottom right coordinate \"\"\"\n",
    "    x1, y1, x2, y2 = box1\n",
    "    x3, y3, x4, y4 = box2\n",
    "\n",
    "    print('box1 w = %d h = %d' % (x2-x1,y2-y1))\n",
    "    print('box2 w = %d h = %d' % (x4-x3,y4-y3))\n",
    "\n",
    "    x_inter1 = max(x1, x3)\n",
    "    y_inter1 = max(y1, y3)\n",
    "    x_inter2 = min(x2, x4)\n",
    "    y_inter2 = min(y2, y4)\n",
    "    width_inter = abs(x_inter2 - x_inter1)\n",
    "    height_inter = abs(y_inter2 - y_inter1)\n",
    "    area_inter = width_inter * height_inter\n",
    "    width_box1 = abs(x2 - x1)\n",
    "    height_box1 = abs(y2 - y1)\n",
    "    width_box2 = abs(x4 - x3)\n",
    "    height_box2 = abs(y4 - y3)\n",
    "    area_box1 = width_box1 * height_box1\n",
    "    area_box2 = width_box2 * height_box2\n",
    "    area_union = area_box1 + area_box2 - area_inter\n",
    "    iou = area_inter / area_union\n",
    "    return iou"
   ]
  },
  {
   "cell_type": "code",
   "execution_count": null,
   "metadata": {
    "executionInfo": {
     "elapsed": 12,
     "status": "ok",
     "timestamp": 1632948706907,
     "user": {
      "displayName": "Yi-Lin Tung",
      "photoUrl": "https://lh3.googleusercontent.com/a-/AOh14GjrY_bv_Qi7w8ajhf7HFIunO9TlRElnbynq7mmygg=s64",
      "userId": "05345175791123493251"
     },
     "user_tz": -480
    },
    "id": "omTR315ixl6v"
   },
   "outputs": [],
   "source": [
    "bbox1 = [0, 10, 30, 50]\n",
    "bbox2 = [10, 0, 50, 40]"
   ]
  },
  {
   "cell_type": "code",
   "execution_count": null,
   "metadata": {
    "colab": {
     "base_uri": "https://localhost:8080/"
    },
    "executionInfo": {
     "elapsed": 12,
     "status": "ok",
     "timestamp": 1632948706908,
     "user": {
      "displayName": "Yi-Lin Tung",
      "photoUrl": "https://lh3.googleusercontent.com/a-/AOh14GjrY_bv_Qi7w8ajhf7HFIunO9TlRElnbynq7mmygg=s64",
      "userId": "05345175791123493251"
     },
     "user_tz": -480
    },
    "id": "AUlqYlQbzneL",
    "outputId": "5e2bd84b-dac3-4f61-f0c6-ec1dabe55503"
   },
   "outputs": [],
   "source": [
    "print(IOU(bbox1,bbox2))"
   ]
  }
 ],
 "metadata": {
  "colab": {
   "authorship_tag": "ABX9TyOAatnU4I5qSllVeBC1JF19",
   "collapsed_sections": [],
   "name": "Object Detection.ipynb",
   "provenance": [
    {
     "file_id": "1MCR84fV2BTnAhJYzwYYlTyg20i9qiWG-",
     "timestamp": 1632942158319
    }
   ]
  },
  "kernelspec": {
   "display_name": "Python 3",
   "language": "python",
   "name": "python3"
  },
  "language_info": {
   "codemirror_mode": {
    "name": "ipython",
    "version": 3
   },
   "file_extension": ".py",
   "mimetype": "text/x-python",
   "name": "python",
   "nbconvert_exporter": "python",
   "pygments_lexer": "ipython3",
   "version": "3.8.8"
  }
 },
 "nbformat": 4,
 "nbformat_minor": 1
}
